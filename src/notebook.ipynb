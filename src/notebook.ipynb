{
 "cells": [
  {
   "cell_type": "markdown",
   "id": "d60bb86d",
   "metadata": {
    "papermill": {
     "duration": 0.011238,
     "end_time": "2024-08-03T12:51:31.940256",
     "exception": false,
     "start_time": "2024-08-03T12:51:31.929018",
     "status": "completed"
    },
    "tags": []
   },
   "source": [
    "# Nakaam Mushrooms - A Deeplearning project to tell poisonous and non-poisonous mushrooms apart"
   ]
  },
  {
   "cell_type": "markdown",
   "id": "98f89d4f",
   "metadata": {
    "papermill": {
     "duration": 0.010301,
     "end_time": "2024-08-03T12:51:31.961459",
     "exception": false,
     "start_time": "2024-08-03T12:51:31.951158",
     "status": "completed"
    },
    "tags": []
   },
   "source": [
    "## Importing Libraries"
   ]
  },
  {
   "cell_type": "code",
   "execution_count": 1,
   "id": "f9301d6c",
   "metadata": {
    "_cell_guid": "b1076dfc-b9ad-4769-8c92-a6c4dae69d19",
    "_uuid": "8f2839f25d086af736a60e9eeb907d3b93b6e0e5",
    "execution": {
     "iopub.execute_input": "2024-08-03T12:51:31.984264Z",
     "iopub.status.busy": "2024-08-03T12:51:31.983857Z",
     "iopub.status.idle": "2024-08-03T12:51:49.049670Z",
     "shell.execute_reply": "2024-08-03T12:51:49.048869Z"
    },
    "papermill": {
     "duration": 17.080057,
     "end_time": "2024-08-03T12:51:49.052075",
     "exception": false,
     "start_time": "2024-08-03T12:51:31.972018",
     "status": "completed"
    },
    "tags": []
   },
   "outputs": [
    {
     "name": "stderr",
     "output_type": "stream",
     "text": [
      "2024-08-03 12:51:39.558673: E external/local_xla/xla/stream_executor/cuda/cuda_dnn.cc:9261] Unable to register cuDNN factory: Attempting to register factory for plugin cuDNN when one has already been registered\n",
      "2024-08-03 12:51:39.558780: E external/local_xla/xla/stream_executor/cuda/cuda_fft.cc:607] Unable to register cuFFT factory: Attempting to register factory for plugin cuFFT when one has already been registered\n",
      "2024-08-03 12:51:39.673905: E external/local_xla/xla/stream_executor/cuda/cuda_blas.cc:1515] Unable to register cuBLAS factory: Attempting to register factory for plugin cuBLAS when one has already been registered\n"
     ]
    }
   ],
   "source": [
    "import numpy as np\n",
    "import pandas as pd\n",
    "from sklearn.compose import ColumnTransformer\n",
    "from sklearn.impute import SimpleImputer\n",
    "from sklearn.preprocessing import StandardScaler, OneHotEncoder, LabelEncoder\n",
    "from sklearn.pipeline import Pipeline\n",
    "from sklearn.base import BaseEstimator, TransformerMixin\n",
    "from sklearn.feature_selection import SelectKBest, f_classif\n",
    "import tqdm\n",
    "import matplotlib.pyplot as plt\n",
    "import seaborn as sns\n",
    "\n",
    "import xgboost as xgb\n",
    "from catboost import CatBoostClassifier\n",
    "import lightgbm as lgb\n",
    "from sklearn.ensemble import RandomForestClassifier, AdaBoostClassifier, GradientBoostingClassifier\n",
    "from sklearn.svm import SVC\n",
    "\n",
    "from sklearn.model_selection import train_test_split\n",
    "from sklearn.metrics import roc_curve, auc, roc_auc_score, classification_report, confusion_matrix\n",
    "\n",
    "\n",
    "from tensorflow.keras.models import Sequential\n",
    "from tensorflow.keras.layers import Dense, Dropout\n",
    "from tensorflow.keras.optimizers import Adam\n",
    "from tensorflow.keras.regularizers import l2"
   ]
  },
  {
   "cell_type": "markdown",
   "id": "1035f321",
   "metadata": {
    "papermill": {
     "duration": 0.011647,
     "end_time": "2024-08-03T12:51:49.076128",
     "exception": false,
     "start_time": "2024-08-03T12:51:49.064481",
     "status": "completed"
    },
    "tags": []
   },
   "source": [
    "## Importing Data"
   ]
  },
  {
   "cell_type": "code",
   "execution_count": 2,
   "id": "5e3ce575",
   "metadata": {
    "execution": {
     "iopub.execute_input": "2024-08-03T12:51:49.099420Z",
     "iopub.status.busy": "2024-08-03T12:51:49.098748Z",
     "iopub.status.idle": "2024-08-03T12:52:07.780464Z",
     "shell.execute_reply": "2024-08-03T12:52:07.779482Z"
    },
    "papermill": {
     "duration": 18.695538,
     "end_time": "2024-08-03T12:52:07.782544",
     "exception": false,
     "start_time": "2024-08-03T12:51:49.087006",
     "status": "completed"
    },
    "tags": []
   },
   "outputs": [
    {
     "data": {
      "text/html": [
       "<div>\n",
       "<style scoped>\n",
       "    .dataframe tbody tr th:only-of-type {\n",
       "        vertical-align: middle;\n",
       "    }\n",
       "\n",
       "    .dataframe tbody tr th {\n",
       "        vertical-align: top;\n",
       "    }\n",
       "\n",
       "    .dataframe thead th {\n",
       "        text-align: right;\n",
       "    }\n",
       "</style>\n",
       "<table border=\"1\" class=\"dataframe\">\n",
       "  <thead>\n",
       "    <tr style=\"text-align: right;\">\n",
       "      <th></th>\n",
       "      <th>id</th>\n",
       "      <th>class</th>\n",
       "      <th>cap-diameter</th>\n",
       "      <th>cap-shape</th>\n",
       "      <th>cap-surface</th>\n",
       "      <th>cap-color</th>\n",
       "      <th>does-bruise-or-bleed</th>\n",
       "      <th>gill-attachment</th>\n",
       "      <th>gill-spacing</th>\n",
       "      <th>gill-color</th>\n",
       "      <th>...</th>\n",
       "      <th>stem-root</th>\n",
       "      <th>stem-surface</th>\n",
       "      <th>stem-color</th>\n",
       "      <th>veil-type</th>\n",
       "      <th>veil-color</th>\n",
       "      <th>has-ring</th>\n",
       "      <th>ring-type</th>\n",
       "      <th>spore-print-color</th>\n",
       "      <th>habitat</th>\n",
       "      <th>season</th>\n",
       "    </tr>\n",
       "  </thead>\n",
       "  <tbody>\n",
       "    <tr>\n",
       "      <th>0</th>\n",
       "      <td>0</td>\n",
       "      <td>e</td>\n",
       "      <td>8.80</td>\n",
       "      <td>f</td>\n",
       "      <td>s</td>\n",
       "      <td>u</td>\n",
       "      <td>f</td>\n",
       "      <td>a</td>\n",
       "      <td>c</td>\n",
       "      <td>w</td>\n",
       "      <td>...</td>\n",
       "      <td>NaN</td>\n",
       "      <td>NaN</td>\n",
       "      <td>w</td>\n",
       "      <td>NaN</td>\n",
       "      <td>NaN</td>\n",
       "      <td>f</td>\n",
       "      <td>f</td>\n",
       "      <td>NaN</td>\n",
       "      <td>d</td>\n",
       "      <td>a</td>\n",
       "    </tr>\n",
       "    <tr>\n",
       "      <th>1</th>\n",
       "      <td>1</td>\n",
       "      <td>p</td>\n",
       "      <td>4.51</td>\n",
       "      <td>x</td>\n",
       "      <td>h</td>\n",
       "      <td>o</td>\n",
       "      <td>f</td>\n",
       "      <td>a</td>\n",
       "      <td>c</td>\n",
       "      <td>n</td>\n",
       "      <td>...</td>\n",
       "      <td>NaN</td>\n",
       "      <td>y</td>\n",
       "      <td>o</td>\n",
       "      <td>NaN</td>\n",
       "      <td>NaN</td>\n",
       "      <td>t</td>\n",
       "      <td>z</td>\n",
       "      <td>NaN</td>\n",
       "      <td>d</td>\n",
       "      <td>w</td>\n",
       "    </tr>\n",
       "    <tr>\n",
       "      <th>2</th>\n",
       "      <td>2</td>\n",
       "      <td>e</td>\n",
       "      <td>6.94</td>\n",
       "      <td>f</td>\n",
       "      <td>s</td>\n",
       "      <td>b</td>\n",
       "      <td>f</td>\n",
       "      <td>x</td>\n",
       "      <td>c</td>\n",
       "      <td>w</td>\n",
       "      <td>...</td>\n",
       "      <td>NaN</td>\n",
       "      <td>s</td>\n",
       "      <td>n</td>\n",
       "      <td>NaN</td>\n",
       "      <td>NaN</td>\n",
       "      <td>f</td>\n",
       "      <td>f</td>\n",
       "      <td>NaN</td>\n",
       "      <td>l</td>\n",
       "      <td>w</td>\n",
       "    </tr>\n",
       "    <tr>\n",
       "      <th>3</th>\n",
       "      <td>3</td>\n",
       "      <td>e</td>\n",
       "      <td>3.88</td>\n",
       "      <td>f</td>\n",
       "      <td>y</td>\n",
       "      <td>g</td>\n",
       "      <td>f</td>\n",
       "      <td>s</td>\n",
       "      <td>NaN</td>\n",
       "      <td>g</td>\n",
       "      <td>...</td>\n",
       "      <td>NaN</td>\n",
       "      <td>NaN</td>\n",
       "      <td>w</td>\n",
       "      <td>NaN</td>\n",
       "      <td>NaN</td>\n",
       "      <td>f</td>\n",
       "      <td>f</td>\n",
       "      <td>NaN</td>\n",
       "      <td>d</td>\n",
       "      <td>u</td>\n",
       "    </tr>\n",
       "    <tr>\n",
       "      <th>4</th>\n",
       "      <td>4</td>\n",
       "      <td>e</td>\n",
       "      <td>5.85</td>\n",
       "      <td>x</td>\n",
       "      <td>l</td>\n",
       "      <td>w</td>\n",
       "      <td>f</td>\n",
       "      <td>d</td>\n",
       "      <td>NaN</td>\n",
       "      <td>w</td>\n",
       "      <td>...</td>\n",
       "      <td>NaN</td>\n",
       "      <td>NaN</td>\n",
       "      <td>w</td>\n",
       "      <td>NaN</td>\n",
       "      <td>NaN</td>\n",
       "      <td>f</td>\n",
       "      <td>f</td>\n",
       "      <td>NaN</td>\n",
       "      <td>g</td>\n",
       "      <td>a</td>\n",
       "    </tr>\n",
       "  </tbody>\n",
       "</table>\n",
       "<p>5 rows × 22 columns</p>\n",
       "</div>"
      ],
      "text/plain": [
       "   id class  cap-diameter cap-shape cap-surface cap-color  \\\n",
       "0   0     e          8.80         f           s         u   \n",
       "1   1     p          4.51         x           h         o   \n",
       "2   2     e          6.94         f           s         b   \n",
       "3   3     e          3.88         f           y         g   \n",
       "4   4     e          5.85         x           l         w   \n",
       "\n",
       "  does-bruise-or-bleed gill-attachment gill-spacing gill-color  ...  \\\n",
       "0                    f               a            c          w  ...   \n",
       "1                    f               a            c          n  ...   \n",
       "2                    f               x            c          w  ...   \n",
       "3                    f               s          NaN          g  ...   \n",
       "4                    f               d          NaN          w  ...   \n",
       "\n",
       "   stem-root  stem-surface stem-color veil-type veil-color has-ring ring-type  \\\n",
       "0        NaN           NaN          w       NaN        NaN        f         f   \n",
       "1        NaN             y          o       NaN        NaN        t         z   \n",
       "2        NaN             s          n       NaN        NaN        f         f   \n",
       "3        NaN           NaN          w       NaN        NaN        f         f   \n",
       "4        NaN           NaN          w       NaN        NaN        f         f   \n",
       "\n",
       "  spore-print-color habitat season  \n",
       "0               NaN       d      a  \n",
       "1               NaN       d      w  \n",
       "2               NaN       l      w  \n",
       "3               NaN       d      u  \n",
       "4               NaN       g      a  \n",
       "\n",
       "[5 rows x 22 columns]"
      ]
     },
     "execution_count": 2,
     "metadata": {},
     "output_type": "execute_result"
    }
   ],
   "source": [
    "test_data = pd.read_csv('/kaggle/input/playground-series-s4e8/train.csv', low_memory=False)\n",
    "test_data.drop_duplicates(inplace = True)\n",
    "test_data.head()"
   ]
  },
  {
   "cell_type": "code",
   "execution_count": 3,
   "id": "658b7e38",
   "metadata": {
    "execution": {
     "iopub.execute_input": "2024-08-03T12:52:07.806493Z",
     "iopub.status.busy": "2024-08-03T12:52:07.806188Z",
     "iopub.status.idle": "2024-08-03T12:52:08.076799Z",
     "shell.execute_reply": "2024-08-03T12:52:08.076018Z"
    },
    "papermill": {
     "duration": 0.285226,
     "end_time": "2024-08-03T12:52:08.079194",
     "exception": false,
     "start_time": "2024-08-03T12:52:07.793968",
     "status": "completed"
    },
    "tags": []
   },
   "outputs": [],
   "source": [
    "df = test_data.sample(50000)\n",
    "\n",
    "final_test_df = test_data.sample(500)"
   ]
  },
  {
   "cell_type": "code",
   "execution_count": 4,
   "id": "d1017d97",
   "metadata": {
    "execution": {
     "iopub.execute_input": "2024-08-03T12:52:08.103410Z",
     "iopub.status.busy": "2024-08-03T12:52:08.102781Z",
     "iopub.status.idle": "2024-08-03T12:52:08.179021Z",
     "shell.execute_reply": "2024-08-03T12:52:08.178172Z"
    },
    "papermill": {
     "duration": 0.090231,
     "end_time": "2024-08-03T12:52:08.180940",
     "exception": false,
     "start_time": "2024-08-03T12:52:08.090709",
     "status": "completed"
    },
    "tags": []
   },
   "outputs": [
    {
     "data": {
      "text/plain": [
       "id                          0\n",
       "class                       0\n",
       "cap-diameter                0\n",
       "cap-shape                   1\n",
       "cap-surface             10800\n",
       "cap-color                   1\n",
       "does-bruise-or-bleed        0\n",
       "gill-attachment          8443\n",
       "gill-spacing            20029\n",
       "gill-color                  1\n",
       "stem-height                 0\n",
       "stem-width                  0\n",
       "stem-root               44248\n",
       "stem-surface            31884\n",
       "stem-color                  1\n",
       "veil-type               47445\n",
       "veil-color              44047\n",
       "has-ring                    0\n",
       "ring-type                1947\n",
       "spore-print-color       45745\n",
       "habitat                     1\n",
       "season                      0\n",
       "dtype: int64"
      ]
     },
     "execution_count": 4,
     "metadata": {},
     "output_type": "execute_result"
    }
   ],
   "source": [
    "df.isnull().sum()"
   ]
  },
  {
   "cell_type": "markdown",
   "id": "48a87954",
   "metadata": {
    "papermill": {
     "duration": 0.010894,
     "end_time": "2024-08-03T12:52:08.203168",
     "exception": false,
     "start_time": "2024-08-03T12:52:08.192274",
     "status": "completed"
    },
    "tags": []
   },
   "source": [
    "## Encoding/standardisation of data"
   ]
  },
  {
   "cell_type": "code",
   "execution_count": 5,
   "id": "b2ad7614",
   "metadata": {
    "execution": {
     "iopub.execute_input": "2024-08-03T12:52:08.226632Z",
     "iopub.status.busy": "2024-08-03T12:52:08.226354Z",
     "iopub.status.idle": "2024-08-03T12:52:08.231410Z",
     "shell.execute_reply": "2024-08-03T12:52:08.230554Z"
    },
    "papermill": {
     "duration": 0.018906,
     "end_time": "2024-08-03T12:52:08.233247",
     "exception": false,
     "start_time": "2024-08-03T12:52:08.214341",
     "status": "completed"
    },
    "tags": []
   },
   "outputs": [],
   "source": [
    "label_encode = ['class']\n",
    "\n",
    "cat_cols = [\n",
    "    'cap-shape', 'cap-color', 'does-bruise-or-bleed', 'gill-color',\n",
    "    'stem-color', 'has-ring', 'ring-type', 'habitat', 'season'\n",
    "]\n",
    "\n",
    "num_cols = [\n",
    "    'cap-diameter', 'stem-height', 'stem-width'\n",
    "]\n",
    "\n",
    "columns_to_drop = [\n",
    "    'id',\n",
    "    'cap-surface', 'gill-attachment', 'gill-spacing', 'stem-root', \n",
    "    'stem-surface', 'veil-type', 'veil-color', 'spore-print-color'\n",
    "]"
   ]
  },
  {
   "cell_type": "code",
   "execution_count": 6,
   "id": "cbe2d3e8",
   "metadata": {
    "execution": {
     "iopub.execute_input": "2024-08-03T12:52:08.256582Z",
     "iopub.status.busy": "2024-08-03T12:52:08.256293Z",
     "iopub.status.idle": "2024-08-03T12:52:08.279972Z",
     "shell.execute_reply": "2024-08-03T12:52:08.279118Z"
    },
    "papermill": {
     "duration": 0.037495,
     "end_time": "2024-08-03T12:52:08.281921",
     "exception": false,
     "start_time": "2024-08-03T12:52:08.244426",
     "status": "completed"
    },
    "tags": []
   },
   "outputs": [],
   "source": [
    "le = LabelEncoder()\n",
    "y = le.fit_transform(df['class'])\n",
    "df.drop(columns = columns_to_drop, inplace = True)"
   ]
  },
  {
   "cell_type": "markdown",
   "id": "8497487a",
   "metadata": {
    "papermill": {
     "duration": 0.011018,
     "end_time": "2024-08-03T12:52:08.304442",
     "exception": false,
     "start_time": "2024-08-03T12:52:08.293424",
     "status": "completed"
    },
    "tags": []
   },
   "source": [
    "### Preprocessing Pipeline"
   ]
  },
  {
   "cell_type": "code",
   "execution_count": 7,
   "id": "04f11df9",
   "metadata": {
    "execution": {
     "iopub.execute_input": "2024-08-03T12:52:08.328471Z",
     "iopub.status.busy": "2024-08-03T12:52:08.327652Z",
     "iopub.status.idle": "2024-08-03T12:52:08.954168Z",
     "shell.execute_reply": "2024-08-03T12:52:08.953343Z"
    },
    "papermill": {
     "duration": 0.640824,
     "end_time": "2024-08-03T12:52:08.956470",
     "exception": false,
     "start_time": "2024-08-03T12:52:08.315646",
     "status": "completed"
    },
    "tags": []
   },
   "outputs": [
    {
     "name": "stderr",
     "output_type": "stream",
     "text": [
      "/opt/conda/lib/python3.10/site-packages/sklearn/preprocessing/_encoders.py:868: FutureWarning: `sparse` was renamed to `sparse_output` in version 1.2 and will be removed in 1.4. `sparse_output` is ignored unless you leave `sparse` to its default value.\n",
      "  warnings.warn(\n"
     ]
    }
   ],
   "source": [
    "num_transformer = Pipeline(steps=[\n",
    "    ('imputer', SimpleImputer(strategy='mean')),\n",
    "    ('scaler', StandardScaler())\n",
    "])\n",
    "\n",
    "cat_transformer = Pipeline(steps=[\n",
    "    ('imputer', SimpleImputer(strategy='most_frequent')),\n",
    "    ('onehot', OneHotEncoder(handle_unknown='ignore', sparse=False))\n",
    "])\n",
    "\n",
    "preprocessor = ColumnTransformer(\n",
    "    transformers=[\n",
    "        ('num', num_transformer, num_cols),\n",
    "        ('cat', cat_transformer, cat_cols)\n",
    "    ]\n",
    ")\n",
    "\n",
    "\n",
    "def fit_pipeline(df, target):\n",
    "    X = df.drop(columns=[target])\n",
    "    y = df[target]\n",
    "\n",
    "    preprocessor.fit(X)\n",
    "    \n",
    "    X_transformed = preprocessor.transform(X)\n",
    "\n",
    "    selector = SelectKBest(score_func=f_classif, k=20)\n",
    "    selector.fit(X_transformed, y)\n",
    "    \n",
    "    return preprocessor, selector\n",
    "\n",
    "def transform_pipeline(df, preprocessor, selector):\n",
    "\n",
    "    X_transformed = preprocessor.transform(df)\n",
    "\n",
    "    X_selected = selector.transform(X_transformed)\n",
    "    \n",
    "    num_col_names = num_cols\n",
    "    cat_col_names = preprocessor.named_transformers_['cat']['onehot'].get_feature_names_out(cat_cols)\n",
    "    all_col_names = list(num_col_names) + list(cat_col_names)\n",
    "    selected_features = selector.get_support(indices=True)\n",
    "    selected_col_names = [all_col_names[i] for i in selected_features]\n",
    "\n",
    "    transformed_df = pd.DataFrame(X_selected, columns=selected_col_names)\n",
    "    \n",
    "    return transformed_df\n",
    "\n",
    "preprocessor, selector = fit_pipeline(df, 'class')"
   ]
  },
  {
   "cell_type": "code",
   "execution_count": 8,
   "id": "ea71f721",
   "metadata": {
    "execution": {
     "iopub.execute_input": "2024-08-03T12:52:08.981472Z",
     "iopub.status.busy": "2024-08-03T12:52:08.981160Z",
     "iopub.status.idle": "2024-08-03T12:52:09.211810Z",
     "shell.execute_reply": "2024-08-03T12:52:09.210989Z"
    },
    "papermill": {
     "duration": 0.245789,
     "end_time": "2024-08-03T12:52:09.214258",
     "exception": false,
     "start_time": "2024-08-03T12:52:08.968469",
     "status": "completed"
    },
    "tags": []
   },
   "outputs": [],
   "source": [
    "df.drop(columns = ['class'], inplace = True)\n",
    "df = transform_pipeline(df, preprocessor, selector)\n",
    "df['class'] = y"
   ]
  },
  {
   "cell_type": "code",
   "execution_count": 9,
   "id": "3c6bec40",
   "metadata": {
    "execution": {
     "iopub.execute_input": "2024-08-03T12:52:09.238738Z",
     "iopub.status.busy": "2024-08-03T12:52:09.238412Z",
     "iopub.status.idle": "2024-08-03T12:52:09.281919Z",
     "shell.execute_reply": "2024-08-03T12:52:09.280998Z"
    },
    "papermill": {
     "duration": 0.057929,
     "end_time": "2024-08-03T12:52:09.284161",
     "exception": false,
     "start_time": "2024-08-03T12:52:09.226232",
     "status": "completed"
    },
    "tags": []
   },
   "outputs": [
    {
     "data": {
      "text/html": [
       "<div>\n",
       "<style scoped>\n",
       "    .dataframe tbody tr th:only-of-type {\n",
       "        vertical-align: middle;\n",
       "    }\n",
       "\n",
       "    .dataframe tbody tr th {\n",
       "        vertical-align: top;\n",
       "    }\n",
       "\n",
       "    .dataframe thead th {\n",
       "        text-align: right;\n",
       "    }\n",
       "</style>\n",
       "<table border=\"1\" class=\"dataframe\">\n",
       "  <thead>\n",
       "    <tr style=\"text-align: right;\">\n",
       "      <th></th>\n",
       "      <th>cap-diameter</th>\n",
       "      <th>stem-width</th>\n",
       "      <th>cap-shape_b</th>\n",
       "      <th>cap-shape_x</th>\n",
       "      <th>cap-color_b</th>\n",
       "      <th>cap-color_e</th>\n",
       "      <th>cap-color_n</th>\n",
       "      <th>cap-color_o</th>\n",
       "      <th>cap-color_r</th>\n",
       "      <th>gill-color_n</th>\n",
       "      <th>...</th>\n",
       "      <th>stem-color_n</th>\n",
       "      <th>stem-color_p</th>\n",
       "      <th>stem-color_w</th>\n",
       "      <th>stem-color_y</th>\n",
       "      <th>ring-type_z</th>\n",
       "      <th>habitat_g</th>\n",
       "      <th>habitat_l</th>\n",
       "      <th>habitat_w</th>\n",
       "      <th>season_w</th>\n",
       "      <th>class</th>\n",
       "    </tr>\n",
       "  </thead>\n",
       "  <tbody>\n",
       "    <tr>\n",
       "      <th>0</th>\n",
       "      <td>-1.113859</td>\n",
       "      <td>-1.050887</td>\n",
       "      <td>1.0</td>\n",
       "      <td>0.0</td>\n",
       "      <td>0.0</td>\n",
       "      <td>0.0</td>\n",
       "      <td>0.0</td>\n",
       "      <td>0.0</td>\n",
       "      <td>0.0</td>\n",
       "      <td>0.0</td>\n",
       "      <td>...</td>\n",
       "      <td>1.0</td>\n",
       "      <td>0.0</td>\n",
       "      <td>0.0</td>\n",
       "      <td>0.0</td>\n",
       "      <td>0.0</td>\n",
       "      <td>1.0</td>\n",
       "      <td>0.0</td>\n",
       "      <td>0.0</td>\n",
       "      <td>0.0</td>\n",
       "      <td>1</td>\n",
       "    </tr>\n",
       "    <tr>\n",
       "      <th>1</th>\n",
       "      <td>-0.195471</td>\n",
       "      <td>-0.662432</td>\n",
       "      <td>0.0</td>\n",
       "      <td>1.0</td>\n",
       "      <td>0.0</td>\n",
       "      <td>0.0</td>\n",
       "      <td>1.0</td>\n",
       "      <td>0.0</td>\n",
       "      <td>0.0</td>\n",
       "      <td>1.0</td>\n",
       "      <td>...</td>\n",
       "      <td>1.0</td>\n",
       "      <td>0.0</td>\n",
       "      <td>0.0</td>\n",
       "      <td>0.0</td>\n",
       "      <td>0.0</td>\n",
       "      <td>0.0</td>\n",
       "      <td>0.0</td>\n",
       "      <td>0.0</td>\n",
       "      <td>0.0</td>\n",
       "      <td>1</td>\n",
       "    </tr>\n",
       "    <tr>\n",
       "      <th>2</th>\n",
       "      <td>0.592935</td>\n",
       "      <td>1.690423</td>\n",
       "      <td>0.0</td>\n",
       "      <td>0.0</td>\n",
       "      <td>0.0</td>\n",
       "      <td>1.0</td>\n",
       "      <td>0.0</td>\n",
       "      <td>0.0</td>\n",
       "      <td>0.0</td>\n",
       "      <td>0.0</td>\n",
       "      <td>...</td>\n",
       "      <td>1.0</td>\n",
       "      <td>0.0</td>\n",
       "      <td>0.0</td>\n",
       "      <td>0.0</td>\n",
       "      <td>0.0</td>\n",
       "      <td>0.0</td>\n",
       "      <td>0.0</td>\n",
       "      <td>0.0</td>\n",
       "      <td>0.0</td>\n",
       "      <td>1</td>\n",
       "    </tr>\n",
       "    <tr>\n",
       "      <th>3</th>\n",
       "      <td>-1.054196</td>\n",
       "      <td>-1.076702</td>\n",
       "      <td>0.0</td>\n",
       "      <td>1.0</td>\n",
       "      <td>0.0</td>\n",
       "      <td>0.0</td>\n",
       "      <td>0.0</td>\n",
       "      <td>0.0</td>\n",
       "      <td>0.0</td>\n",
       "      <td>0.0</td>\n",
       "      <td>...</td>\n",
       "      <td>0.0</td>\n",
       "      <td>0.0</td>\n",
       "      <td>1.0</td>\n",
       "      <td>0.0</td>\n",
       "      <td>0.0</td>\n",
       "      <td>0.0</td>\n",
       "      <td>0.0</td>\n",
       "      <td>0.0</td>\n",
       "      <td>0.0</td>\n",
       "      <td>0</td>\n",
       "    </tr>\n",
       "    <tr>\n",
       "      <th>4</th>\n",
       "      <td>-1.045672</td>\n",
       "      <td>-1.171357</td>\n",
       "      <td>0.0</td>\n",
       "      <td>1.0</td>\n",
       "      <td>0.0</td>\n",
       "      <td>0.0</td>\n",
       "      <td>1.0</td>\n",
       "      <td>0.0</td>\n",
       "      <td>0.0</td>\n",
       "      <td>1.0</td>\n",
       "      <td>...</td>\n",
       "      <td>1.0</td>\n",
       "      <td>0.0</td>\n",
       "      <td>0.0</td>\n",
       "      <td>0.0</td>\n",
       "      <td>0.0</td>\n",
       "      <td>0.0</td>\n",
       "      <td>0.0</td>\n",
       "      <td>0.0</td>\n",
       "      <td>0.0</td>\n",
       "      <td>1</td>\n",
       "    </tr>\n",
       "    <tr>\n",
       "      <th>...</th>\n",
       "      <td>...</td>\n",
       "      <td>...</td>\n",
       "      <td>...</td>\n",
       "      <td>...</td>\n",
       "      <td>...</td>\n",
       "      <td>...</td>\n",
       "      <td>...</td>\n",
       "      <td>...</td>\n",
       "      <td>...</td>\n",
       "      <td>...</td>\n",
       "      <td>...</td>\n",
       "      <td>...</td>\n",
       "      <td>...</td>\n",
       "      <td>...</td>\n",
       "      <td>...</td>\n",
       "      <td>...</td>\n",
       "      <td>...</td>\n",
       "      <td>...</td>\n",
       "      <td>...</td>\n",
       "      <td>...</td>\n",
       "      <td>...</td>\n",
       "    </tr>\n",
       "    <tr>\n",
       "      <th>49995</th>\n",
       "      <td>-1.026495</td>\n",
       "      <td>-1.179962</td>\n",
       "      <td>0.0</td>\n",
       "      <td>0.0</td>\n",
       "      <td>0.0</td>\n",
       "      <td>0.0</td>\n",
       "      <td>0.0</td>\n",
       "      <td>0.0</td>\n",
       "      <td>0.0</td>\n",
       "      <td>0.0</td>\n",
       "      <td>...</td>\n",
       "      <td>0.0</td>\n",
       "      <td>0.0</td>\n",
       "      <td>1.0</td>\n",
       "      <td>0.0</td>\n",
       "      <td>0.0</td>\n",
       "      <td>0.0</td>\n",
       "      <td>0.0</td>\n",
       "      <td>0.0</td>\n",
       "      <td>0.0</td>\n",
       "      <td>0</td>\n",
       "    </tr>\n",
       "    <tr>\n",
       "      <th>49996</th>\n",
       "      <td>0.469347</td>\n",
       "      <td>0.655363</td>\n",
       "      <td>0.0</td>\n",
       "      <td>0.0</td>\n",
       "      <td>0.0</td>\n",
       "      <td>0.0</td>\n",
       "      <td>1.0</td>\n",
       "      <td>0.0</td>\n",
       "      <td>0.0</td>\n",
       "      <td>0.0</td>\n",
       "      <td>...</td>\n",
       "      <td>0.0</td>\n",
       "      <td>0.0</td>\n",
       "      <td>1.0</td>\n",
       "      <td>0.0</td>\n",
       "      <td>0.0</td>\n",
       "      <td>0.0</td>\n",
       "      <td>0.0</td>\n",
       "      <td>0.0</td>\n",
       "      <td>0.0</td>\n",
       "      <td>1</td>\n",
       "    </tr>\n",
       "    <tr>\n",
       "      <th>49997</th>\n",
       "      <td>-0.506572</td>\n",
       "      <td>-0.450995</td>\n",
       "      <td>0.0</td>\n",
       "      <td>1.0</td>\n",
       "      <td>0.0</td>\n",
       "      <td>0.0</td>\n",
       "      <td>1.0</td>\n",
       "      <td>0.0</td>\n",
       "      <td>0.0</td>\n",
       "      <td>0.0</td>\n",
       "      <td>...</td>\n",
       "      <td>0.0</td>\n",
       "      <td>0.0</td>\n",
       "      <td>1.0</td>\n",
       "      <td>0.0</td>\n",
       "      <td>0.0</td>\n",
       "      <td>0.0</td>\n",
       "      <td>0.0</td>\n",
       "      <td>0.0</td>\n",
       "      <td>0.0</td>\n",
       "      <td>0</td>\n",
       "    </tr>\n",
       "    <tr>\n",
       "      <th>49998</th>\n",
       "      <td>-0.536404</td>\n",
       "      <td>-0.041642</td>\n",
       "      <td>0.0</td>\n",
       "      <td>1.0</td>\n",
       "      <td>0.0</td>\n",
       "      <td>0.0</td>\n",
       "      <td>1.0</td>\n",
       "      <td>0.0</td>\n",
       "      <td>0.0</td>\n",
       "      <td>1.0</td>\n",
       "      <td>...</td>\n",
       "      <td>1.0</td>\n",
       "      <td>0.0</td>\n",
       "      <td>0.0</td>\n",
       "      <td>0.0</td>\n",
       "      <td>0.0</td>\n",
       "      <td>0.0</td>\n",
       "      <td>0.0</td>\n",
       "      <td>0.0</td>\n",
       "      <td>0.0</td>\n",
       "      <td>0</td>\n",
       "    </tr>\n",
       "    <tr>\n",
       "      <th>49999</th>\n",
       "      <td>0.288227</td>\n",
       "      <td>0.666427</td>\n",
       "      <td>0.0</td>\n",
       "      <td>0.0</td>\n",
       "      <td>0.0</td>\n",
       "      <td>1.0</td>\n",
       "      <td>0.0</td>\n",
       "      <td>0.0</td>\n",
       "      <td>0.0</td>\n",
       "      <td>0.0</td>\n",
       "      <td>...</td>\n",
       "      <td>0.0</td>\n",
       "      <td>0.0</td>\n",
       "      <td>0.0</td>\n",
       "      <td>0.0</td>\n",
       "      <td>0.0</td>\n",
       "      <td>0.0</td>\n",
       "      <td>0.0</td>\n",
       "      <td>0.0</td>\n",
       "      <td>0.0</td>\n",
       "      <td>1</td>\n",
       "    </tr>\n",
       "  </tbody>\n",
       "</table>\n",
       "<p>50000 rows × 21 columns</p>\n",
       "</div>"
      ],
      "text/plain": [
       "       cap-diameter  stem-width  cap-shape_b  cap-shape_x  cap-color_b  \\\n",
       "0         -1.113859   -1.050887          1.0          0.0          0.0   \n",
       "1         -0.195471   -0.662432          0.0          1.0          0.0   \n",
       "2          0.592935    1.690423          0.0          0.0          0.0   \n",
       "3         -1.054196   -1.076702          0.0          1.0          0.0   \n",
       "4         -1.045672   -1.171357          0.0          1.0          0.0   \n",
       "...             ...         ...          ...          ...          ...   \n",
       "49995     -1.026495   -1.179962          0.0          0.0          0.0   \n",
       "49996      0.469347    0.655363          0.0          0.0          0.0   \n",
       "49997     -0.506572   -0.450995          0.0          1.0          0.0   \n",
       "49998     -0.536404   -0.041642          0.0          1.0          0.0   \n",
       "49999      0.288227    0.666427          0.0          0.0          0.0   \n",
       "\n",
       "       cap-color_e  cap-color_n  cap-color_o  cap-color_r  gill-color_n  ...  \\\n",
       "0              0.0          0.0          0.0          0.0           0.0  ...   \n",
       "1              0.0          1.0          0.0          0.0           1.0  ...   \n",
       "2              1.0          0.0          0.0          0.0           0.0  ...   \n",
       "3              0.0          0.0          0.0          0.0           0.0  ...   \n",
       "4              0.0          1.0          0.0          0.0           1.0  ...   \n",
       "...            ...          ...          ...          ...           ...  ...   \n",
       "49995          0.0          0.0          0.0          0.0           0.0  ...   \n",
       "49996          0.0          1.0          0.0          0.0           0.0  ...   \n",
       "49997          0.0          1.0          0.0          0.0           0.0  ...   \n",
       "49998          0.0          1.0          0.0          0.0           1.0  ...   \n",
       "49999          1.0          0.0          0.0          0.0           0.0  ...   \n",
       "\n",
       "       stem-color_n  stem-color_p  stem-color_w  stem-color_y  ring-type_z  \\\n",
       "0               1.0           0.0           0.0           0.0          0.0   \n",
       "1               1.0           0.0           0.0           0.0          0.0   \n",
       "2               1.0           0.0           0.0           0.0          0.0   \n",
       "3               0.0           0.0           1.0           0.0          0.0   \n",
       "4               1.0           0.0           0.0           0.0          0.0   \n",
       "...             ...           ...           ...           ...          ...   \n",
       "49995           0.0           0.0           1.0           0.0          0.0   \n",
       "49996           0.0           0.0           1.0           0.0          0.0   \n",
       "49997           0.0           0.0           1.0           0.0          0.0   \n",
       "49998           1.0           0.0           0.0           0.0          0.0   \n",
       "49999           0.0           0.0           0.0           0.0          0.0   \n",
       "\n",
       "       habitat_g  habitat_l  habitat_w  season_w  class  \n",
       "0            1.0        0.0        0.0       0.0      1  \n",
       "1            0.0        0.0        0.0       0.0      1  \n",
       "2            0.0        0.0        0.0       0.0      1  \n",
       "3            0.0        0.0        0.0       0.0      0  \n",
       "4            0.0        0.0        0.0       0.0      1  \n",
       "...          ...        ...        ...       ...    ...  \n",
       "49995        0.0        0.0        0.0       0.0      0  \n",
       "49996        0.0        0.0        0.0       0.0      1  \n",
       "49997        0.0        0.0        0.0       0.0      0  \n",
       "49998        0.0        0.0        0.0       0.0      0  \n",
       "49999        0.0        0.0        0.0       0.0      1  \n",
       "\n",
       "[50000 rows x 21 columns]"
      ]
     },
     "execution_count": 9,
     "metadata": {},
     "output_type": "execute_result"
    }
   ],
   "source": [
    "df"
   ]
  },
  {
   "cell_type": "markdown",
   "id": "bae260ee",
   "metadata": {
    "papermill": {
     "duration": 0.011652,
     "end_time": "2024-08-03T12:52:09.307736",
     "exception": false,
     "start_time": "2024-08-03T12:52:09.296084",
     "status": "completed"
    },
    "tags": []
   },
   "source": [
    "## Correlation Heatmap"
   ]
  },
  {
   "cell_type": "code",
   "execution_count": 10,
   "id": "fe76fc47",
   "metadata": {
    "execution": {
     "iopub.execute_input": "2024-08-03T12:52:09.333017Z",
     "iopub.status.busy": "2024-08-03T12:52:09.332688Z",
     "iopub.status.idle": "2024-08-03T12:52:10.013956Z",
     "shell.execute_reply": "2024-08-03T12:52:10.013083Z"
    },
    "papermill": {
     "duration": 0.696439,
     "end_time": "2024-08-03T12:52:10.016369",
     "exception": false,
     "start_time": "2024-08-03T12:52:09.319930",
     "status": "completed"
    },
    "tags": []
   },
   "outputs": [
    {
     "data": {
      "image/png": "[encoded data removed]",
      "text/plain": [
       "<Figure size 1200x800 with 2 Axes>"
      ]
     },
     "metadata": {},
     "output_type": "display_data"
    }
   ],
   "source": [
    "plt.figure(figsize=(12, 8))\n",
    "correlation_matrix = df.corr()\n",
    "sns.heatmap(correlation_matrix, annot=False, cmap='coolwarm')\n",
    "plt.title('Feature Correlation Heatmap')\n",
    "plt.show()"
   ]
  },
  {
   "cell_type": "code",
   "execution_count": 11,
   "id": "16cd3635",
   "metadata": {
    "execution": {
     "iopub.execute_input": "2024-08-03T12:52:10.043688Z",
     "iopub.status.busy": "2024-08-03T12:52:10.043363Z",
     "iopub.status.idle": "2024-08-03T12:52:10.048326Z",
     "shell.execute_reply": "2024-08-03T12:52:10.047493Z"
    },
    "papermill": {
     "duration": 0.020749,
     "end_time": "2024-08-03T12:52:10.050218",
     "exception": false,
     "start_time": "2024-08-03T12:52:10.029469",
     "status": "completed"
    },
    "tags": []
   },
   "outputs": [],
   "source": [
    "l = df.shape[1]\n",
    "col = []\n",
    "for i in range(l-1):\n",
    "    col.append(i)\n",
    "    \n",
    "df.columns = col + ['target']"
   ]
  },
  {
   "cell_type": "markdown",
   "id": "2c9277ec",
   "metadata": {
    "papermill": {
     "duration": 0.012456,
     "end_time": "2024-08-03T12:52:10.075450",
     "exception": false,
     "start_time": "2024-08-03T12:52:10.062994",
     "status": "completed"
    },
    "tags": []
   },
   "source": [
    "## Applying Models"
   ]
  },
  {
   "cell_type": "code",
   "execution_count": 12,
   "id": "c89aef54",
   "metadata": {
    "execution": {
     "iopub.execute_input": "2024-08-03T12:52:10.102093Z",
     "iopub.status.busy": "2024-08-03T12:52:10.101789Z",
     "iopub.status.idle": "2024-08-03T12:52:10.105839Z",
     "shell.execute_reply": "2024-08-03T12:52:10.105088Z"
    },
    "papermill": {
     "duration": 0.019725,
     "end_time": "2024-08-03T12:52:10.107757",
     "exception": false,
     "start_time": "2024-08-03T12:52:10.088032",
     "status": "completed"
    },
    "tags": []
   },
   "outputs": [],
   "source": [
    "pAUCscores = []\n",
    "confMatrix = []\n",
    "cfReport = []"
   ]
  },
  {
   "cell_type": "markdown",
   "id": "d11910d7",
   "metadata": {
    "papermill": {
     "duration": 0.0126,
     "end_time": "2024-08-03T12:52:10.132984",
     "exception": false,
     "start_time": "2024-08-03T12:52:10.120384",
     "status": "completed"
    },
    "tags": []
   },
   "source": [
    "### Model Evaluation Parameter"
   ]
  },
  {
   "cell_type": "code",
   "execution_count": 13,
   "id": "5789d574",
   "metadata": {
    "execution": {
     "iopub.execute_input": "2024-08-03T12:52:10.161544Z",
     "iopub.status.busy": "2024-08-03T12:52:10.161261Z",
     "iopub.status.idle": "2024-08-03T12:52:10.170506Z",
     "shell.execute_reply": "2024-08-03T12:52:10.169796Z"
    },
    "papermill": {
     "duration": 0.024895,
     "end_time": "2024-08-03T12:52:10.172372",
     "exception": false,
     "start_time": "2024-08-03T12:52:10.147477",
     "status": "completed"
    },
    "tags": []
   },
   "outputs": [],
   "source": [
    "class ParticipantVisibleError(Exception):\n",
    "    pass\n",
    "\n",
    "def score(solution: pd.DataFrame, submission: pd.DataFrame, row_id_column_name: str, min_tpr: float=0.80) -> float:\n",
    "    del solution[row_id_column_name]\n",
    "    del submission[row_id_column_name]\n",
    "\n",
    "    if not pd.api.types.is_numeric_dtype(submission.values):\n",
    "        raise ParticipantVisibleError('Submission target column must be numeric')\n",
    "\n",
    "    v_gt = abs(np.asarray(solution.values) - 1)\n",
    "    v_pred = -1.0 * np.asarray(submission.values)\n",
    "\n",
    "    max_fpr = abs(1 - min_tpr)\n",
    "\n",
    "    fpr, tpr, _ = roc_curve(v_gt, v_pred, sample_weight=None)\n",
    "    if max_fpr is None or max_fpr == 1:\n",
    "        return auc(fpr, tpr)\n",
    "    if max_fpr <= 0 or max_fpr > 1:\n",
    "        raise ValueError(\"Expected min_tpr in range [0, 1), got: %r\" % min_tpr)\n",
    "\n",
    "    stop = np.searchsorted(fpr, max_fpr, \"right\")\n",
    "    x_interp = [fpr[stop - 1], fpr[stop]]\n",
    "    y_interp = [tpr[stop - 1], tpr[stop]]\n",
    "    tpr = np.append(tpr[:stop], np.interp(max_fpr, x_interp, y_interp))\n",
    "    fpr = np.append(fpr[:stop], max_fpr)\n",
    "    partial_auc = auc(fpr, tpr)\n",
    "\n",
    "    return partial_auc"
   ]
  },
  {
   "cell_type": "markdown",
   "id": "b6010131",
   "metadata": {
    "papermill": {
     "duration": 0.01243,
     "end_time": "2024-08-03T12:52:10.197516",
     "exception": false,
     "start_time": "2024-08-03T12:52:10.185086",
     "status": "completed"
    },
    "tags": []
   },
   "source": [
    "### LGBM Classifier"
   ]
  },
  {
   "cell_type": "code",
   "execution_count": 14,
   "id": "7a1d6d4d",
   "metadata": {
    "execution": {
     "iopub.execute_input": "2024-08-03T12:52:10.224528Z",
     "iopub.status.busy": "2024-08-03T12:52:10.223986Z",
     "iopub.status.idle": "2024-08-03T12:52:10.648260Z",
     "shell.execute_reply": "2024-08-03T12:52:10.647481Z"
    },
    "papermill": {
     "duration": 0.440514,
     "end_time": "2024-08-03T12:52:10.650631",
     "exception": false,
     "start_time": "2024-08-03T12:52:10.210117",
     "status": "completed"
    },
    "tags": []
   },
   "outputs": [
    {
     "name": "stdout",
     "output_type": "stream",
     "text": [
      "[LightGBM] [Info] Number of positive: 22019, number of negative: 17981\n",
      "[LightGBM] [Info] Auto-choosing row-wise multi-threading, the overhead of testing was 0.003139 seconds.\n",
      "You can set `force_row_wise=true` to remove the overhead.\n",
      "And if memory is not enough, you can set `force_col_wise=true`.\n",
      "[LightGBM] [Info] Total Bins 546\n",
      "[LightGBM] [Info] Number of data points in the train set: 40000, number of used features: 20\n",
      "[LightGBM] [Info] [binary:BoostFromScore]: pavg=0.550475 -> initscore=0.202590\n",
      "[LightGBM] [Info] Start training from score 0.202590\n"
     ]
    }
   ],
   "source": [
    "X = df.drop(columns=['target'])\n",
    "y = df['target']\n",
    "X_train, X_test, y_train, y_test = train_test_split(X, y, test_size=0.2, random_state=42)\n",
    "\n",
    "lgb_model = lgb.LGBMClassifier()\n",
    "lgb_model.fit(X_train, y_train)\n",
    "\n",
    "y_scores = lgb_model.predict_proba(X_test)[:, 1]\n",
    "y_pred = (y_scores > 0.5).astype(int)\n",
    "\n",
    "solution = pd.DataFrame({'row_id': range(len(y_test)), 'target': y_test})\n",
    "submission = pd.DataFrame({'row_id': range(len(y_scores)), 'prediction': y_scores})\n",
    "\n",
    "pAUC = score(solution, submission, 'row_id', min_tpr=0.80)\n",
    "\n",
    "pAUCscores.append(pAUC)\n",
    "confMatrix.append(confusion_matrix(y_test, y_pred))\n",
    "cfReport.append(classification_report(y_test, y_pred))"
   ]
  },
  {
   "cell_type": "markdown",
   "id": "05a57c7b",
   "metadata": {
    "papermill": {
     "duration": 0.012622,
     "end_time": "2024-08-03T12:52:10.676921",
     "exception": false,
     "start_time": "2024-08-03T12:52:10.664299",
     "status": "completed"
    },
    "tags": []
   },
   "source": [
    "### XGB Clasifier"
   ]
  },
  {
   "cell_type": "code",
   "execution_count": 15,
   "id": "c84d3578",
   "metadata": {
    "execution": {
     "iopub.execute_input": "2024-08-03T12:52:10.703912Z",
     "iopub.status.busy": "2024-08-03T12:52:10.703547Z",
     "iopub.status.idle": "2024-08-03T12:52:11.134253Z",
     "shell.execute_reply": "2024-08-03T12:52:11.133498Z"
    },
    "papermill": {
     "duration": 0.44686,
     "end_time": "2024-08-03T12:52:11.136558",
     "exception": false,
     "start_time": "2024-08-03T12:52:10.689698",
     "status": "completed"
    },
    "tags": []
   },
   "outputs": [],
   "source": [
    "X = df.drop(columns=['target'])\n",
    "y = df['target']\n",
    "X_train, X_test, y_train, y_test = train_test_split(X, y, test_size=0.2, random_state=42)\n",
    "\n",
    "xgb_model = xgb.XGBClassifier(use_label_encoder=False, eval_metric='logloss')\n",
    "xgb_model.fit(X_train, y_train)\n",
    "\n",
    "y_scores = xgb_model.predict_proba(X_test)[:, 1]\n",
    "y_true = y_test\n",
    "y_pred = (y_scores > 0.5).astype(int)\n",
    "\n",
    "solution = pd.DataFrame({'row_id': range(len(y_test)), 'target': y_true})\n",
    "submission = pd.DataFrame({'row_id': range(len(y_scores)), 'prediction': y_scores})\n",
    "\n",
    "pAUC = score(solution, submission, 'row_id', min_tpr=0.80)\n",
    "\n",
    "pAUCscores.append(pAUC)\n",
    "confMatrix.append(confusion_matrix(y_test, y_pred))\n",
    "cfReport.append(classification_report(y_test, y_pred))"
   ]
  },
  {
   "cell_type": "markdown",
   "id": "35456575",
   "metadata": {
    "papermill": {
     "duration": 0.012721,
     "end_time": "2024-08-03T12:52:11.164877",
     "exception": false,
     "start_time": "2024-08-03T12:52:11.152156",
     "status": "completed"
    },
    "tags": []
   },
   "source": [
    "### CatBoost Clasifier"
   ]
  },
  {
   "cell_type": "code",
   "execution_count": 16,
   "id": "57ede0b0",
   "metadata": {
    "execution": {
     "iopub.execute_input": "2024-08-03T12:52:11.192058Z",
     "iopub.status.busy": "2024-08-03T12:52:11.191490Z",
     "iopub.status.idle": "2024-08-03T12:52:18.588564Z",
     "shell.execute_reply": "2024-08-03T12:52:18.587504Z"
    },
    "papermill": {
     "duration": 7.413326,
     "end_time": "2024-08-03T12:52:18.591039",
     "exception": false,
     "start_time": "2024-08-03T12:52:11.177713",
     "status": "completed"
    },
    "tags": []
   },
   "outputs": [],
   "source": [
    "X = df.drop(columns=['target'])\n",
    "y = df['target']\n",
    "X_train, X_test, y_train, y_test = train_test_split(X, y, test_size=0.2, random_state=42)\n",
    "\n",
    "catboost_model = CatBoostClassifier(verbose=0)\n",
    "catboost_model.fit(X_train, y_train)\n",
    "\n",
    "y_pred = catboost_model.predict(X_test)\n",
    "y_true = y_test\n",
    "y_scores = catboost_model.predict_proba(X_test)[:, 1]\n",
    "\n",
    "solution = pd.DataFrame({'row_id': range(len(y_true)), 'target': y_true})\n",
    "submission = pd.DataFrame({'row_id': range(len(y_scores)), 'prediction': y_scores})\n",
    "\n",
    "pAUC = score(solution, submission, 'row_id', min_tpr=0.80)\n",
    "\n",
    "pAUCscores.append(pAUC)\n",
    "confMatrix.append(confusion_matrix(y_true, y_pred))\n",
    "cfReport.append(classification_report(y_true, y_pred))"
   ]
  },
  {
   "cell_type": "markdown",
   "id": "13f787d5",
   "metadata": {
    "papermill": {
     "duration": 0.012728,
     "end_time": "2024-08-03T12:52:18.617364",
     "exception": false,
     "start_time": "2024-08-03T12:52:18.604636",
     "status": "completed"
    },
    "tags": []
   },
   "source": [
    "### AdaBoost Classifier"
   ]
  },
  {
   "cell_type": "code",
   "execution_count": 17,
   "id": "81e9f794",
   "metadata": {
    "execution": {
     "iopub.execute_input": "2024-08-03T12:52:18.644762Z",
     "iopub.status.busy": "2024-08-03T12:52:18.644408Z",
     "iopub.status.idle": "2024-08-03T12:52:21.075739Z",
     "shell.execute_reply": "2024-08-03T12:52:21.074720Z"
    },
    "papermill": {
     "duration": 2.447722,
     "end_time": "2024-08-03T12:52:21.078172",
     "exception": false,
     "start_time": "2024-08-03T12:52:18.630450",
     "status": "completed"
    },
    "tags": []
   },
   "outputs": [],
   "source": [
    "X = df.drop(columns=['target'])\n",
    "y = df['target']\n",
    "X_train, X_test, y_train, y_test = train_test_split(X, y, test_size=0.2, random_state=42)\n",
    "\n",
    "adaboost_model = AdaBoostClassifier(n_estimators=100, random_state=42)\n",
    "adaboost_model.fit(X_train, y_train)\n",
    "\n",
    "y_pred = adaboost_model.predict(X_test)\n",
    "y_scores = adaboost_model.predict_proba(X_test)[:, 1]\n",
    "\n",
    "solution = pd.DataFrame({'row_id': range(len(y_true)), 'target': y_true})\n",
    "submission = pd.DataFrame({'row_id': range(len(y_scores)), 'prediction': y_scores})\n",
    "\n",
    "pAUC = score(solution, submission, 'row_id', min_tpr=0.80)\n",
    "conf_matrix = confusion_matrix(y_test, y_pred)\n",
    "cf_report = classification_report(y_test, y_pred)\n",
    "\n",
    "pAUCscores.append(pAUC)\n",
    "confMatrix.append(conf_matrix)\n",
    "cfReport.append(cf_report)"
   ]
  },
  {
   "cell_type": "markdown",
   "id": "4a04627f",
   "metadata": {
    "papermill": {
     "duration": 0.012835,
     "end_time": "2024-08-03T12:52:21.104887",
     "exception": false,
     "start_time": "2024-08-03T12:52:21.092052",
     "status": "completed"
    },
    "tags": []
   },
   "source": [
    "### GBR Classifier"
   ]
  },
  {
   "cell_type": "code",
   "execution_count": 18,
   "id": "16c73746",
   "metadata": {
    "execution": {
     "iopub.execute_input": "2024-08-03T12:52:21.132291Z",
     "iopub.status.busy": "2024-08-03T12:52:21.131741Z",
     "iopub.status.idle": "2024-08-03T12:52:24.530993Z",
     "shell.execute_reply": "2024-08-03T12:52:24.529990Z"
    },
    "papermill": {
     "duration": 3.415624,
     "end_time": "2024-08-03T12:52:24.533510",
     "exception": false,
     "start_time": "2024-08-03T12:52:21.117886",
     "status": "completed"
    },
    "tags": []
   },
   "outputs": [],
   "source": [
    "X = df.drop(columns=['target'])\n",
    "y = df['target']\n",
    "\n",
    "X_train, X_test, y_train, y_test = train_test_split(X, y, test_size=0.2, random_state=42)\n",
    "\n",
    "gbm_model = GradientBoostingClassifier()\n",
    "gbm_model.fit(X_train, y_train)\n",
    "\n",
    "y_pred = gbm_model.predict(X_test)\n",
    "y_true = y_test\n",
    "\n",
    "y_scores = gbm_model.predict_proba(X_test)[:, 1]\n",
    "\n",
    "solution = pd.DataFrame({'row_id': range(len(y_true)), 'target': y_true})\n",
    "submission = pd.DataFrame({'row_id': range(len(y_scores)), 'prediction': y_scores})\n",
    "\n",
    "pAUC = score(solution, submission, 'row_id', min_tpr=0.80)\n",
    "\n",
    "pAUCscores.append(pAUC)\n",
    "confMatrix.append(confusion_matrix(y_true, y_pred))\n",
    "cfReport.append(classification_report(y_true, y_pred))"
   ]
  },
  {
   "cell_type": "markdown",
   "id": "eda33293",
   "metadata": {
    "papermill": {
     "duration": 0.012576,
     "end_time": "2024-08-03T12:52:24.559322",
     "exception": false,
     "start_time": "2024-08-03T12:52:24.546746",
     "status": "completed"
    },
    "tags": []
   },
   "source": [
    "### SVM Classifier"
   ]
  },
  {
   "cell_type": "code",
   "execution_count": 19,
   "id": "aa9c4846",
   "metadata": {
    "execution": {
     "iopub.execute_input": "2024-08-03T12:52:24.586559Z",
     "iopub.status.busy": "2024-08-03T12:52:24.586219Z",
     "iopub.status.idle": "2024-08-03T12:55:53.022701Z",
     "shell.execute_reply": "2024-08-03T12:55:53.021717Z"
    },
    "papermill": {
     "duration": 208.453326,
     "end_time": "2024-08-03T12:55:53.025474",
     "exception": false,
     "start_time": "2024-08-03T12:52:24.572148",
     "status": "completed"
    },
    "tags": []
   },
   "outputs": [],
   "source": [
    "X = df.drop(columns=['target'])\n",
    "y = df['target']\n",
    "\n",
    "X_train, X_test, y_train, y_test = train_test_split(X, y, test_size=0.2, random_state=42)\n",
    "\n",
    "svm_model = SVC(probability=True, random_state=42)\n",
    "svm_model.fit(X_train, y_train)\n",
    "\n",
    "y_pred = svm_model.predict(X_test)\n",
    "y_true = y_test\n",
    "\n",
    "y_scores = svm_model.predict_proba(X_test)[:, 1]\n",
    "\n",
    "solution = pd.DataFrame({'row_id': range(len(y_true)), 'target': y_true})\n",
    "submission = pd.DataFrame({'row_id': range(len(y_scores)), 'prediction': y_scores})\n",
    "\n",
    "pAUC = score(solution, submission, 'row_id', min_tpr=0.80)\n",
    "\n",
    "pAUCscores.append(pAUC)\n",
    "confMatrix.append(confusion_matrix(y_true, y_pred))\n",
    "cfReport.append(classification_report(y_true, y_pred))\n"
   ]
  },
  {
   "cell_type": "markdown",
   "id": "200b2a72",
   "metadata": {
    "papermill": {
     "duration": 0.012708,
     "end_time": "2024-08-03T12:55:53.052225",
     "exception": false,
     "start_time": "2024-08-03T12:55:53.039517",
     "status": "completed"
    },
    "tags": []
   },
   "source": [
    "### Random Forest Classifier"
   ]
  },
  {
   "cell_type": "code",
   "execution_count": 20,
   "id": "6c8b348b",
   "metadata": {
    "execution": {
     "iopub.execute_input": "2024-08-03T12:55:53.079402Z",
     "iopub.status.busy": "2024-08-03T12:55:53.079075Z",
     "iopub.status.idle": "2024-08-03T12:55:57.239584Z",
     "shell.execute_reply": "2024-08-03T12:55:57.238845Z"
    },
    "papermill": {
     "duration": 4.176767,
     "end_time": "2024-08-03T12:55:57.241882",
     "exception": false,
     "start_time": "2024-08-03T12:55:53.065115",
     "status": "completed"
    },
    "tags": []
   },
   "outputs": [],
   "source": [
    "X = df.drop(columns=['target'])\n",
    "y = df['target']\n",
    "\n",
    "X_train, X_test, y_train, y_test = train_test_split(X, y, test_size=0.2, random_state=42)\n",
    "\n",
    "random_forest_model = RandomForestClassifier(random_state=42)\n",
    "random_forest_model.fit(X_train, y_train)\n",
    "\n",
    "y_pred = random_forest_model.predict(X_test)\n",
    "y_true = y_test\n",
    "\n",
    "y_scores = random_forest_model.predict_proba(X_test)[:, 1]\n",
    "\n",
    "solution = pd.DataFrame({'row_id': range(len(y_true)), 'target': y_true})\n",
    "submission = pd.DataFrame({'row_id': range(len(y_scores)), 'prediction': y_scores})\n",
    "\n",
    "pAUC = score(solution, submission, 'row_id', min_tpr=0.80)\n",
    "\n",
    "pAUCscores.append(pAUC)\n",
    "confMatrix.append(confusion_matrix(y_true, y_pred))\n",
    "cfReport.append(classification_report(y_true, y_pred))"
   ]
  },
  {
   "cell_type": "markdown",
   "id": "2326b6eb",
   "metadata": {
    "papermill": {
     "duration": 0.013089,
     "end_time": "2024-08-03T12:55:57.268867",
     "exception": false,
     "start_time": "2024-08-03T12:55:57.255778",
     "status": "completed"
    },
    "tags": []
   },
   "source": [
    "### Deep Neural Networks"
   ]
  },
  {
   "cell_type": "code",
   "execution_count": 21,
   "id": "63cf6092",
   "metadata": {
    "execution": {
     "iopub.execute_input": "2024-08-03T12:55:57.339498Z",
     "iopub.status.busy": "2024-08-03T12:55:57.339159Z",
     "iopub.status.idle": "2024-08-03T12:56:38.243953Z",
     "shell.execute_reply": "2024-08-03T12:56:38.243115Z"
    },
    "papermill": {
     "duration": 40.920989,
     "end_time": "2024-08-03T12:56:38.246075",
     "exception": false,
     "start_time": "2024-08-03T12:55:57.325086",
     "status": "completed"
    },
    "tags": []
   },
   "outputs": [
    {
     "name": "stderr",
     "output_type": "stream",
     "text": [
      "/opt/conda/lib/python3.10/site-packages/keras/src/layers/core/dense.py:87: UserWarning: Do not pass an `input_shape`/`input_dim` argument to a layer. When using Sequential models, prefer using an `Input(shape)` object as the first layer in the model instead.\n",
      "  super().__init__(activity_regularizer=activity_regularizer, **kwargs)\n"
     ]
    },
    {
     "name": "stdout",
     "output_type": "stream",
     "text": [
      "Epoch 1/40\n"
     ]
    },
    {
     "name": "stderr",
     "output_type": "stream",
     "text": [
      "WARNING: All log messages before absl::InitializeLog() is called are written to STDERR\n",
      "I0000 00:00:1722689762.288802      86 device_compiler.h:186] Compiled cluster using XLA!  This line is logged at most once for the lifetime of the process.\n"
     ]
    },
    {
     "name": "stdout",
     "output_type": "stream",
     "text": [
      "Epoch 2/40\n",
      "Epoch 3/40\n",
      "Epoch 4/40\n",
      "Epoch 5/40\n",
      "Epoch 6/40\n",
      "Epoch 7/40\n",
      "Epoch 8/40\n",
      "Epoch 9/40\n",
      "Epoch 10/40\n",
      "Epoch 11/40\n",
      "Epoch 12/40\n",
      "Epoch 13/40\n",
      "Epoch 14/40\n",
      "Epoch 15/40\n",
      "Epoch 16/40\n",
      "Epoch 17/40\n",
      "Epoch 18/40\n",
      "Epoch 19/40\n",
      "Epoch 20/40\n",
      "Epoch 21/40\n",
      "Epoch 22/40\n",
      "Epoch 23/40\n",
      "Epoch 24/40\n",
      "Epoch 25/40\n",
      "Epoch 26/40\n",
      "Epoch 27/40\n",
      "Epoch 28/40\n",
      "Epoch 29/40\n",
      "Epoch 30/40\n",
      "Epoch 31/40\n",
      "Epoch 32/40\n",
      "Epoch 33/40\n",
      "Epoch 34/40\n",
      "Epoch 35/40\n",
      "Epoch 36/40\n",
      "Epoch 37/40\n",
      "Epoch 38/40\n",
      "Epoch 39/40\n",
      "Epoch 40/40\n",
      "\u001b[1m313/313\u001b[0m \u001b[32m━━━━━━━━━━━━━━━━━━━━\u001b[0m\u001b[37m\u001b[0m \u001b[1m1s\u001b[0m 2ms/step - accuracy: 0.8770 - loss: 0.2875\n",
      "Test Accuracy: 0.883400022983551\n",
      "\u001b[1m313/313\u001b[0m \u001b[32m━━━━━━━━━━━━━━━━━━━━\u001b[0m\u001b[37m\u001b[0m \u001b[1m1s\u001b[0m 2ms/step\n",
      "\u001b[1m313/313\u001b[0m \u001b[32m━━━━━━━━━━━━━━━━━━━━\u001b[0m\u001b[37m\u001b[0m \u001b[1m0s\u001b[0m 1ms/step\n"
     ]
    }
   ],
   "source": [
    "X = df.drop(columns=['target'])\n",
    "y = df['target']\n",
    "\n",
    "X_train, X_test, y_train, y_test = train_test_split(X, y, test_size=0.2, random_state=42)\n",
    "\n",
    "model = Sequential([\n",
    "    Dense(64, activation='relu', input_shape=(X_train.shape[1],),),\n",
    "    Dropout(0.3),\n",
    "    Dense(32, activation='relu'),\n",
    "    Dropout(0.3),\n",
    "    Dense(1, activation='sigmoid')\n",
    "])\n",
    "\n",
    "model.compile(optimizer=\"adam\", loss='binary_crossentropy', metrics=['accuracy'])\n",
    "\n",
    "history = model.fit(X_train, y_train, epochs=40, validation_split=0.2, batch_size=64, verbose=3)\n",
    "\n",
    "loss, accuracy = model.evaluate(X_test, y_test)\n",
    "print(f\"Test Accuracy: {accuracy}\")\n",
    "\n",
    "y_pred = (model.predict(X_test) > 0.5).astype(\"int32\")\n",
    "y_true = y_test\n",
    "\n",
    "y_scores = model.predict(X_test).flatten()\n",
    "\n",
    "solution = pd.DataFrame({'row_id': range(len(y_true)), 'target': y_true})\n",
    "submission = pd.DataFrame({'row_id': range(len(y_scores)), 'prediction': y_scores})\n",
    "\n",
    "pAUC = score(solution, submission, 'row_id', min_tpr=0.80)\n",
    "\n",
    "pAUCscores.append(pAUC)\n",
    "confMatrix.append(confusion_matrix(y_true, y_pred))\n",
    "cfReport.append(classification_report(y_true, y_pred))"
   ]
  },
  {
   "cell_type": "code",
   "execution_count": 22,
   "id": "6ff794f1",
   "metadata": {
    "execution": {
     "iopub.execute_input": "2024-08-03T12:56:38.285067Z",
     "iopub.status.busy": "2024-08-03T12:56:38.284511Z",
     "iopub.status.idle": "2024-08-03T12:56:38.671938Z",
     "shell.execute_reply": "2024-08-03T12:56:38.670952Z"
    },
    "papermill": {
     "duration": 0.409134,
     "end_time": "2024-08-03T12:56:38.673963",
     "exception": false,
     "start_time": "2024-08-03T12:56:38.264829",
     "status": "completed"
    },
    "tags": []
   },
   "outputs": [
    {
     "data": {
      "image/png": "[encoded data removed]",
      "text/plain": [
       "<Figure size 640x480 with 1 Axes>"
      ]
     },
     "metadata": {},
     "output_type": "display_data"
    },
    {
     "data": {
      "image/png": "[encoded data removed]",
      "text/plain": [
       "<Figure size 640x480 with 1 Axes>"
      ]
     },
     "metadata": {},
     "output_type": "display_data"
    }
   ],
   "source": [
    "plt.plot(history.history['accuracy'], label='accuracy')\n",
    "plt.plot(history.history['val_accuracy'], label='val_accuracy')\n",
    "plt.xlabel('Epoch')\n",
    "plt.ylabel('Accuracy')\n",
    "plt.legend(loc='lower right')\n",
    "plt.show()\n",
    "\n",
    "plt.plot(history.history['loss'], label='loss')\n",
    "plt.plot(history.history['val_loss'], label='val_loss')\n",
    "plt.xlabel('Epoch')\n",
    "plt.ylabel('Loss')\n",
    "plt.legend(loc='upper right')\n",
    "plt.show()"
   ]
  },
  {
   "cell_type": "code",
   "execution_count": 23,
   "id": "3c6016a6",
   "metadata": {
    "execution": {
     "iopub.execute_input": "2024-08-03T12:56:38.714173Z",
     "iopub.status.busy": "2024-08-03T12:56:38.713696Z",
     "iopub.status.idle": "2024-08-03T12:56:38.719102Z",
     "shell.execute_reply": "2024-08-03T12:56:38.718290Z"
    },
    "papermill": {
     "duration": 0.02738,
     "end_time": "2024-08-03T12:56:38.721009",
     "exception": false,
     "start_time": "2024-08-03T12:56:38.693629",
     "status": "completed"
    },
    "tags": []
   },
   "outputs": [
    {
     "data": {
      "text/plain": [
       "'pAUCscores.pop(-1)\\nconfMatrix.pop(-1)\\ncfReport.pop(-1)'"
      ]
     },
     "execution_count": 23,
     "metadata": {},
     "output_type": "execute_result"
    }
   ],
   "source": [
    "'''pAUCscores.pop(-1)\n",
    "confMatrix.pop(-1)\n",
    "cfReport.pop(-1)'''"
   ]
  },
  {
   "cell_type": "markdown",
   "id": "4ffbc0a2",
   "metadata": {
    "papermill": {
     "duration": 0.019249,
     "end_time": "2024-08-03T12:56:38.760023",
     "exception": false,
     "start_time": "2024-08-03T12:56:38.740774",
     "status": "completed"
    },
    "tags": []
   },
   "source": [
    "## Models Evaluation"
   ]
  },
  {
   "cell_type": "code",
   "execution_count": 24,
   "id": "9fec31fa",
   "metadata": {
    "execution": {
     "iopub.execute_input": "2024-08-03T12:56:38.800258Z",
     "iopub.status.busy": "2024-08-03T12:56:38.799936Z",
     "iopub.status.idle": "2024-08-03T12:56:38.807014Z",
     "shell.execute_reply": "2024-08-03T12:56:38.806163Z"
    },
    "papermill": {
     "duration": 0.030051,
     "end_time": "2024-08-03T12:56:38.809505",
     "exception": false,
     "start_time": "2024-08-03T12:56:38.779454",
     "status": "completed"
    },
    "tags": []
   },
   "outputs": [
    {
     "name": "stdout",
     "output_type": "stream",
     "text": [
      "----------------------------------\n",
      "Metrics for LGBM\n",
      "pAUC Score:\n",
      " 0.16878330084097418\n",
      "Confusion Matrix:\n",
      " [[4195  384]\n",
      " [ 646 4775]]\n",
      "Other Metrics Report:\n",
      "               precision    recall  f1-score   support\n",
      "\n",
      "           0       0.87      0.92      0.89      4579\n",
      "           1       0.93      0.88      0.90      5421\n",
      "\n",
      "    accuracy                           0.90     10000\n",
      "   macro avg       0.90      0.90      0.90     10000\n",
      "weighted avg       0.90      0.90      0.90     10000\n",
      "\n",
      "----------------------------------\n",
      "Metrics for XGB\n",
      "pAUC Score:\n",
      " 0.17449059147695864\n",
      "Confusion Matrix:\n",
      " [[4218  361]\n",
      " [ 507 4914]]\n",
      "Other Metrics Report:\n",
      "               precision    recall  f1-score   support\n",
      "\n",
      "           0       0.89      0.92      0.91      4579\n",
      "           1       0.93      0.91      0.92      5421\n",
      "\n",
      "    accuracy                           0.91     10000\n",
      "   macro avg       0.91      0.91      0.91     10000\n",
      "weighted avg       0.91      0.91      0.91     10000\n",
      "\n",
      "----------------------------------\n",
      "Metrics for CAT\n",
      "pAUC Score:\n",
      " 0.17677823806773446\n",
      "Confusion Matrix:\n",
      " [[4226  353]\n",
      " [ 442 4979]]\n",
      "Other Metrics Report:\n",
      "               precision    recall  f1-score   support\n",
      "\n",
      "           0       0.91      0.92      0.91      4579\n",
      "           1       0.93      0.92      0.93      5421\n",
      "\n",
      "    accuracy                           0.92     10000\n",
      "   macro avg       0.92      0.92      0.92     10000\n",
      "weighted avg       0.92      0.92      0.92     10000\n",
      "\n",
      "----------------------------------\n",
      "Metrics for ADB\n",
      "pAUC Score:\n",
      " 0.09111654664418525\n",
      "Confusion Matrix:\n",
      " [[3206 1373]\n",
      " [1147 4274]]\n",
      "Other Metrics Report:\n",
      "               precision    recall  f1-score   support\n",
      "\n",
      "           0       0.74      0.70      0.72      4579\n",
      "           1       0.76      0.79      0.77      5421\n",
      "\n",
      "    accuracy                           0.75     10000\n",
      "   macro avg       0.75      0.74      0.75     10000\n",
      "weighted avg       0.75      0.75      0.75     10000\n",
      "\n",
      "----------------------------------\n",
      "Metrics for GBM\n",
      "pAUC Score:\n",
      " 0.12001520862366666\n",
      "Confusion Matrix:\n",
      " [[3734  845]\n",
      " [ 971 4450]]\n",
      "Other Metrics Report:\n",
      "               precision    recall  f1-score   support\n",
      "\n",
      "           0       0.79      0.82      0.80      4579\n",
      "           1       0.84      0.82      0.83      5421\n",
      "\n",
      "    accuracy                           0.82     10000\n",
      "   macro avg       0.82      0.82      0.82     10000\n",
      "weighted avg       0.82      0.82      0.82     10000\n",
      "\n",
      "----------------------------------\n",
      "Metrics for SVM\n",
      "pAUC Score:\n",
      " 0.15227616720607082\n",
      "Confusion Matrix:\n",
      " [[3849  730]\n",
      " [ 587 4834]]\n",
      "Other Metrics Report:\n",
      "               precision    recall  f1-score   support\n",
      "\n",
      "           0       0.87      0.84      0.85      4579\n",
      "           1       0.87      0.89      0.88      5421\n",
      "\n",
      "    accuracy                           0.87     10000\n",
      "   macro avg       0.87      0.87      0.87     10000\n",
      "weighted avg       0.87      0.87      0.87     10000\n",
      "\n",
      "----------------------------------\n",
      "Metrics for RF\n",
      "pAUC Score:\n",
      " 0.1758510111203741\n",
      "Confusion Matrix:\n",
      " [[4196  383]\n",
      " [ 463 4958]]\n",
      "Other Metrics Report:\n",
      "               precision    recall  f1-score   support\n",
      "\n",
      "           0       0.90      0.92      0.91      4579\n",
      "           1       0.93      0.91      0.92      5421\n",
      "\n",
      "    accuracy                           0.92     10000\n",
      "   macro avg       0.91      0.92      0.91     10000\n",
      "weighted avg       0.92      0.92      0.92     10000\n",
      "\n",
      "----------------------------------\n",
      "Metrics for DNN\n",
      "pAUC Score:\n",
      " 0.1624987576924869\n",
      "Confusion Matrix:\n",
      " [[3954  625]\n",
      " [ 541 4880]]\n",
      "Other Metrics Report:\n",
      "               precision    recall  f1-score   support\n",
      "\n",
      "           0       0.88      0.86      0.87      4579\n",
      "           1       0.89      0.90      0.89      5421\n",
      "\n",
      "    accuracy                           0.88     10000\n",
      "   macro avg       0.88      0.88      0.88     10000\n",
      "weighted avg       0.88      0.88      0.88     10000\n",
      "\n"
     ]
    }
   ],
   "source": [
    "models = ['LGBM', 'XGB', 'CAT', 'ADB', 'GBM', 'SVM', 'RF', 'DNN']\n",
    "\n",
    "for ps, conf, cf, md in zip(pAUCscores, confMatrix, cfReport, models):\n",
    "    print('----------------------------------')\n",
    "    print('Metrics for', md)\n",
    "    print('pAUC Score:\\n', ps)\n",
    "    print('Confusion Matrix:\\n', conf)\n",
    "    print('Other Metrics Report:\\n', cf)"
   ]
  },
  {
   "cell_type": "markdown",
   "id": "142227bf",
   "metadata": {
    "papermill": {
     "duration": 0.019406,
     "end_time": "2024-08-03T12:56:38.848639",
     "exception": false,
     "start_time": "2024-08-03T12:56:38.829233",
     "status": "completed"
    },
    "tags": []
   },
   "source": [
    "## Best Model"
   ]
  },
  {
   "cell_type": "code",
   "execution_count": 25,
   "id": "88d47657",
   "metadata": {
    "execution": {
     "iopub.execute_input": "2024-08-03T12:56:38.889377Z",
     "iopub.status.busy": "2024-08-03T12:56:38.888811Z",
     "iopub.status.idle": "2024-08-03T12:56:39.643637Z",
     "shell.execute_reply": "2024-08-03T12:56:39.642652Z"
    },
    "papermill": {
     "duration": 0.777577,
     "end_time": "2024-08-03T12:56:39.645772",
     "exception": false,
     "start_time": "2024-08-03T12:56:38.868195",
     "status": "completed"
    },
    "tags": []
   },
   "outputs": [
    {
     "name": "stdout",
     "output_type": "stream",
     "text": [
      "lgb_model\n",
      "0.1579927739863508\n",
      "xgb_model\n",
      "0.16649538338016856\n",
      "catboost_model\n",
      "0.16924929747089518\n",
      "adaboost_model\n",
      "0.08863107185869126\n",
      "gbm_model\n",
      "0.11283018867924523\n",
      "svm_model\n",
      "0.1399277398635086\n",
      "random_forest_model\n",
      "0.16374949819349655\n",
      "dnn\n",
      "\u001b[1m16/16\u001b[0m \u001b[32m━━━━━━━━━━━━━━━━━━━━\u001b[0m\u001b[37m\u001b[0m \u001b[1m0s\u001b[0m 11ms/step\n",
      "0.15555198715375346\n",
      "Best pAUC Model: catboost_model\n",
      "Average pAUC:0.1443034925732637\n"
     ]
    }
   ],
   "source": [
    "import pandas as pd\n",
    "\n",
    "def predict(test_data: pd.DataFrame, model_, return_actual=False) -> pd.DataFrame:\n",
    "    ids = test_data['id']\n",
    "    \n",
    "    test_data_processed = transform_pipeline(test_data, preprocessor, selector)\n",
    "    \n",
    "    test_data_processed.columns = col\n",
    "    \n",
    "    try:\n",
    "        test_predictions = model_.predict_proba(test_data_processed)[:, 1]\n",
    "    except:\n",
    "        test_predictions = model_.predict(test_data_processed).flatten()\n",
    "    \n",
    "    predictions_df = pd.DataFrame({'id': ids, 'target': test_predictions})\n",
    "    \n",
    "    if return_actual:\n",
    "        res = []\n",
    "        for _, row in predictions_df.iterrows():\n",
    "            if row['target'] > 0.5:\n",
    "                res.append('p')\n",
    "            else:\n",
    "                res.append('e')\n",
    "        predictions_df['target'] = res\n",
    "    \n",
    "    return predictions_df\n",
    "\n",
    "\n",
    "X = final_test_df.drop(columns = ['class'])\n",
    "y = le.transform(final_test_df['class'])\n",
    "\n",
    "mdls = [lgb_model, xgb_model, catboost_model, adaboost_model, gbm_model, svm_model, random_forest_model, model]\n",
    "mdls_name = ['lgb_model','xgb_model', 'catboost_model', 'adaboost_model', 'gbm_model', 'svm_model', 'random_forest_model', 'dnn']\n",
    "\n",
    "best_model = None\n",
    "best_model_name = None\n",
    "max_puac = 0\n",
    "sum_puac = 0\n",
    "for m, n in zip(mdls, mdls_name):\n",
    "    print(n)\n",
    "    predicted_df = predict(X, m)\n",
    "    \n",
    "    predicted_df['actual_target'] = y\n",
    "    solution = pd.DataFrame({'row_id': range(len(predicted_df['actual_target'])), 'target': predicted_df['actual_target']})\n",
    "    submission = pd.DataFrame({'row_id': range(len(predicted_df['target'])), 'prediction': predicted_df['target']})\n",
    "    pAUC = score(solution, submission, 'row_id', min_tpr=0.80)\n",
    "    print(pAUC)\n",
    "        \n",
    "    sum_puac += pAUC\n",
    "    if(pAUC > max_puac):\n",
    "        max_puac = pAUC\n",
    "        best_model = m\n",
    "        best_model_name = n\n",
    "\n",
    "\n",
    "print(f'Best pAUC Model: {best_model_name}')\n",
    "print(f'Average pAUC:{sum_puac/len(mdls)}')"
   ]
  },
  {
   "cell_type": "markdown",
   "id": "debd8186",
   "metadata": {
    "papermill": {
     "duration": 0.019947,
     "end_time": "2024-08-03T12:56:39.686278",
     "exception": false,
     "start_time": "2024-08-03T12:56:39.666331",
     "status": "completed"
    },
    "tags": []
   },
   "source": [
    "## Final Predictions"
   ]
  },
  {
   "cell_type": "code",
   "execution_count": 26,
   "id": "a77e5579",
   "metadata": {
    "execution": {
     "iopub.execute_input": "2024-08-03T12:56:39.727817Z",
     "iopub.status.busy": "2024-08-03T12:56:39.727187Z",
     "iopub.status.idle": "2024-08-03T12:58:26.435439Z",
     "shell.execute_reply": "2024-08-03T12:58:26.434469Z"
    },
    "papermill": {
     "duration": 106.752634,
     "end_time": "2024-08-03T12:58:26.458860",
     "exception": false,
     "start_time": "2024-08-03T12:56:39.706226",
     "status": "completed"
    },
    "tags": []
   },
   "outputs": [
    {
     "data": {
      "text/html": [
       "<div>\n",
       "<style scoped>\n",
       "    .dataframe tbody tr th:only-of-type {\n",
       "        vertical-align: middle;\n",
       "    }\n",
       "\n",
       "    .dataframe tbody tr th {\n",
       "        vertical-align: top;\n",
       "    }\n",
       "\n",
       "    .dataframe thead th {\n",
       "        text-align: right;\n",
       "    }\n",
       "</style>\n",
       "<table border=\"1\" class=\"dataframe\">\n",
       "  <thead>\n",
       "    <tr style=\"text-align: right;\">\n",
       "      <th></th>\n",
       "      <th>id</th>\n",
       "      <th>target</th>\n",
       "    </tr>\n",
       "  </thead>\n",
       "  <tbody>\n",
       "    <tr>\n",
       "      <th>0</th>\n",
       "      <td>3116945</td>\n",
       "      <td>e</td>\n",
       "    </tr>\n",
       "    <tr>\n",
       "      <th>1</th>\n",
       "      <td>3116946</td>\n",
       "      <td>p</td>\n",
       "    </tr>\n",
       "    <tr>\n",
       "      <th>2</th>\n",
       "      <td>3116947</td>\n",
       "      <td>p</td>\n",
       "    </tr>\n",
       "    <tr>\n",
       "      <th>3</th>\n",
       "      <td>3116948</td>\n",
       "      <td>p</td>\n",
       "    </tr>\n",
       "    <tr>\n",
       "      <th>4</th>\n",
       "      <td>3116949</td>\n",
       "      <td>e</td>\n",
       "    </tr>\n",
       "    <tr>\n",
       "      <th>...</th>\n",
       "      <td>...</td>\n",
       "      <td>...</td>\n",
       "    </tr>\n",
       "    <tr>\n",
       "      <th>2077959</th>\n",
       "      <td>5194904</td>\n",
       "      <td>p</td>\n",
       "    </tr>\n",
       "    <tr>\n",
       "      <th>2077960</th>\n",
       "      <td>5194905</td>\n",
       "      <td>p</td>\n",
       "    </tr>\n",
       "    <tr>\n",
       "      <th>2077961</th>\n",
       "      <td>5194906</td>\n",
       "      <td>p</td>\n",
       "    </tr>\n",
       "    <tr>\n",
       "      <th>2077962</th>\n",
       "      <td>5194907</td>\n",
       "      <td>e</td>\n",
       "    </tr>\n",
       "    <tr>\n",
       "      <th>2077963</th>\n",
       "      <td>5194908</td>\n",
       "      <td>e</td>\n",
       "    </tr>\n",
       "  </tbody>\n",
       "</table>\n",
       "<p>2077964 rows × 2 columns</p>\n",
       "</div>"
      ],
      "text/plain": [
       "              id target\n",
       "0        3116945      e\n",
       "1        3116946      p\n",
       "2        3116947      p\n",
       "3        3116948      p\n",
       "4        3116949      e\n",
       "...          ...    ...\n",
       "2077959  5194904      p\n",
       "2077960  5194905      p\n",
       "2077961  5194906      p\n",
       "2077962  5194907      e\n",
       "2077963  5194908      e\n",
       "\n",
       "[2077964 rows x 2 columns]"
      ]
     },
     "execution_count": 26,
     "metadata": {},
     "output_type": "execute_result"
    }
   ],
   "source": [
    "test_data = pd.read_csv('/kaggle/input/playground-series-s4e8/test.csv', low_memory=False)\n",
    "predicted_df = predict(test_data, best_model, return_actual = True)\n",
    "predicted_df.to_csv('submission.csv', index=False)\n",
    "predicted_df"
   ]
  },
  {
   "cell_type": "code",
   "execution_count": null,
   "id": "1fd843fe",
   "metadata": {
    "papermill": {
     "duration": 0.020177,
     "end_time": "2024-08-03T12:58:26.500768",
     "exception": false,
     "start_time": "2024-08-03T12:58:26.480591",
     "status": "completed"
    },
    "tags": []
   },
   "outputs": [],
   "source": []
  }
 ],
 "metadata": {
  "kaggle": {
   "accelerator": "gpu",
   "dataSources": [
    {
     "databundleVersionId": 9045607,
     "sourceId": 76727,
     "sourceType": "competition"
    }
   ],
   "dockerImageVersionId": 30746,
   "isGpuEnabled": true,
   "isInternetEnabled": true,
   "language": "python",
   "sourceType": "notebook"
  },
  "kernelspec": {
   "display_name": "Python 3",
   "language": "python",
   "name": "python3"
  },
  "language_info": {
   "codemirror_mode": {
    "name": "ipython",
    "version": 3
   },
   "file_extension": ".py",
   "mimetype": "text/x-python",
   "name": "python",
   "nbconvert_exporter": "python",
   "pygments_lexer": "ipython3",
   "version": "3.10.13"
  },
  "papermill": {
   "default_parameters": {},
   "duration": 420.358584,
   "end_time": "2024-08-03T12:58:29.522692",
   "environment_variables": {},
   "exception": null,
   "input_path": "__notebook__.ipynb",
   "output_path": "__notebook__.ipynb",
   "parameters": {},
   "start_time": "2024-08-03T12:51:29.164108",
   "version": "2.5.0"
  }
 },
 "nbformat": 4,
 "nbformat_minor": 5
}
